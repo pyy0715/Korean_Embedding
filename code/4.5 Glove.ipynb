{
 "cells": [
  {
   "cell_type": "markdown",
   "metadata": {},
   "source": [
    "GloVe의 아이디어를 한 줄로 요약하면 **'임베딩 된 중심 단어와 주변 단어 벡터의 내적이 전체 코퍼스에서의 동시 등장 확률이 되도록 만드는 것'**"
   ]
  },
  {
   "cell_type": "code",
   "execution_count": 10,
   "metadata": {
    "ExecuteTime": {
     "end_time": "2020-03-03T06:22:05.450649Z",
     "start_time": "2020-03-03T06:22:05.438650Z"
    }
   },
   "outputs": [],
   "source": [
    "import pandas as pd\n",
    "import numpy as np"
   ]
  },
  {
   "cell_type": "code",
   "execution_count": 2,
   "metadata": {
    "ExecuteTime": {
     "end_time": "2020-03-03T06:17:24.260097Z",
     "start_time": "2020-03-03T06:17:19.424583Z"
    }
   },
   "outputs": [],
   "source": [
    "corpus_path = '../data/word-embeddings/glove/glove.txt'\n",
    "corpus = [sent.strip().split(\" \") for sent in open(corpus_path, 'r', encoding='utf-8').readlines()]"
   ]
  },
  {
   "cell_type": "code",
   "execution_count": 3,
   "metadata": {
    "ExecuteTime": {
     "end_time": "2020-03-03T06:18:08.388316Z",
     "start_time": "2020-03-03T06:18:03.682307Z"
    }
   },
   "outputs": [],
   "source": [
    "corpus_df = pd.DataFrame(corpus)"
   ]
  },
  {
   "cell_type": "code",
   "execution_count": 4,
   "metadata": {
    "ExecuteTime": {
     "end_time": "2020-03-03T06:18:08.966381Z",
     "start_time": "2020-03-03T06:18:08.946385Z"
    }
   },
   "outputs": [
    {
     "data": {
      "text/html": [
       "<div>\n",
       "<style scoped>\n",
       "    .dataframe tbody tr th:only-of-type {\n",
       "        vertical-align: middle;\n",
       "    }\n",
       "\n",
       "    .dataframe tbody tr th {\n",
       "        vertical-align: top;\n",
       "    }\n",
       "\n",
       "    .dataframe thead th {\n",
       "        text-align: right;\n",
       "    }\n",
       "</style>\n",
       "<table border=\"1\" class=\"dataframe\">\n",
       "  <thead>\n",
       "    <tr style=\"text-align: right;\">\n",
       "      <th></th>\n",
       "      <th>0</th>\n",
       "      <th>1</th>\n",
       "      <th>2</th>\n",
       "      <th>3</th>\n",
       "      <th>4</th>\n",
       "      <th>5</th>\n",
       "      <th>6</th>\n",
       "      <th>7</th>\n",
       "      <th>8</th>\n",
       "      <th>9</th>\n",
       "      <th>...</th>\n",
       "      <th>91</th>\n",
       "      <th>92</th>\n",
       "      <th>93</th>\n",
       "      <th>94</th>\n",
       "      <th>95</th>\n",
       "      <th>96</th>\n",
       "      <th>97</th>\n",
       "      <th>98</th>\n",
       "      <th>99</th>\n",
       "      <th>100</th>\n",
       "    </tr>\n",
       "  </thead>\n",
       "  <tbody>\n",
       "    <tr>\n",
       "      <td>0</td>\n",
       "      <td>1</td>\n",
       "      <td>-0.427017</td>\n",
       "      <td>-0.543471</td>\n",
       "      <td>0.195273</td>\n",
       "      <td>0.294334</td>\n",
       "      <td>-0.441908</td>\n",
       "      <td>0.586086</td>\n",
       "      <td>-1.443970</td>\n",
       "      <td>-0.128346</td>\n",
       "      <td>-0.419354</td>\n",
       "      <td>...</td>\n",
       "      <td>-0.323161</td>\n",
       "      <td>0.875404</td>\n",
       "      <td>-0.551731</td>\n",
       "      <td>0.462782</td>\n",
       "      <td>0.653174</td>\n",
       "      <td>0.278982</td>\n",
       "      <td>1.287942</td>\n",
       "      <td>0.245155</td>\n",
       "      <td>0.894915</td>\n",
       "      <td>-0.502916</td>\n",
       "    </tr>\n",
       "    <tr>\n",
       "      <td>1</td>\n",
       "      <td>.</td>\n",
       "      <td>-0.757692</td>\n",
       "      <td>-1.366592</td>\n",
       "      <td>1.007756</td>\n",
       "      <td>0.140902</td>\n",
       "      <td>-0.405306</td>\n",
       "      <td>-0.137617</td>\n",
       "      <td>-1.532676</td>\n",
       "      <td>-0.855700</td>\n",
       "      <td>-0.578284</td>\n",
       "      <td>...</td>\n",
       "      <td>-0.227633</td>\n",
       "      <td>0.076767</td>\n",
       "      <td>-0.767365</td>\n",
       "      <td>0.378810</td>\n",
       "      <td>1.130215</td>\n",
       "      <td>-0.205914</td>\n",
       "      <td>1.156774</td>\n",
       "      <td>0.879370</td>\n",
       "      <td>0.899059</td>\n",
       "      <td>-0.284559</td>\n",
       "    </tr>\n",
       "    <tr>\n",
       "      <td>2</td>\n",
       "      <td>0</td>\n",
       "      <td>-0.224991</td>\n",
       "      <td>-1.100936</td>\n",
       "      <td>0.197688</td>\n",
       "      <td>-0.014826</td>\n",
       "      <td>-1.185218</td>\n",
       "      <td>0.888817</td>\n",
       "      <td>-1.203675</td>\n",
       "      <td>-0.273878</td>\n",
       "      <td>-0.824834</td>\n",
       "      <td>...</td>\n",
       "      <td>-0.479965</td>\n",
       "      <td>1.054976</td>\n",
       "      <td>-0.701015</td>\n",
       "      <td>0.739088</td>\n",
       "      <td>1.177431</td>\n",
       "      <td>0.472935</td>\n",
       "      <td>1.032185</td>\n",
       "      <td>-0.214798</td>\n",
       "      <td>0.706888</td>\n",
       "      <td>-0.081318</td>\n",
       "    </tr>\n",
       "    <tr>\n",
       "      <td>3</td>\n",
       "      <td>2</td>\n",
       "      <td>-0.305080</td>\n",
       "      <td>-0.908815</td>\n",
       "      <td>0.179033</td>\n",
       "      <td>0.308061</td>\n",
       "      <td>-1.271097</td>\n",
       "      <td>0.804265</td>\n",
       "      <td>-1.263210</td>\n",
       "      <td>-0.001970</td>\n",
       "      <td>-0.475218</td>\n",
       "      <td>...</td>\n",
       "      <td>-0.508415</td>\n",
       "      <td>1.004855</td>\n",
       "      <td>-0.524278</td>\n",
       "      <td>0.763253</td>\n",
       "      <td>0.693777</td>\n",
       "      <td>0.600829</td>\n",
       "      <td>1.141334</td>\n",
       "      <td>-0.224841</td>\n",
       "      <td>0.649257</td>\n",
       "      <td>-0.208603</td>\n",
       "    </tr>\n",
       "    <tr>\n",
       "      <td>4</td>\n",
       "      <td>의</td>\n",
       "      <td>-1.731348</td>\n",
       "      <td>-0.098834</td>\n",
       "      <td>-0.169523</td>\n",
       "      <td>0.454951</td>\n",
       "      <td>-0.729661</td>\n",
       "      <td>0.426901</td>\n",
       "      <td>-1.125615</td>\n",
       "      <td>-0.167185</td>\n",
       "      <td>-0.216998</td>\n",
       "      <td>...</td>\n",
       "      <td>-0.452197</td>\n",
       "      <td>0.722257</td>\n",
       "      <td>0.117114</td>\n",
       "      <td>1.695926</td>\n",
       "      <td>1.328011</td>\n",
       "      <td>1.126812</td>\n",
       "      <td>1.019037</td>\n",
       "      <td>0.701252</td>\n",
       "      <td>0.932216</td>\n",
       "      <td>-0.340602</td>\n",
       "    </tr>\n",
       "  </tbody>\n",
       "</table>\n",
       "<p>5 rows × 101 columns</p>\n",
       "</div>"
      ],
      "text/plain": [
       "  0          1          2          3          4          5          6    \\\n",
       "0   1  -0.427017  -0.543471   0.195273   0.294334  -0.441908   0.586086   \n",
       "1   .  -0.757692  -1.366592   1.007756   0.140902  -0.405306  -0.137617   \n",
       "2   0  -0.224991  -1.100936   0.197688  -0.014826  -1.185218   0.888817   \n",
       "3   2  -0.305080  -0.908815   0.179033   0.308061  -1.271097   0.804265   \n",
       "4   의  -1.731348  -0.098834  -0.169523   0.454951  -0.729661   0.426901   \n",
       "\n",
       "         7          8          9    ...        91        92         93   \\\n",
       "0  -1.443970  -0.128346  -0.419354  ...  -0.323161  0.875404  -0.551731   \n",
       "1  -1.532676  -0.855700  -0.578284  ...  -0.227633  0.076767  -0.767365   \n",
       "2  -1.203675  -0.273878  -0.824834  ...  -0.479965  1.054976  -0.701015   \n",
       "3  -1.263210  -0.001970  -0.475218  ...  -0.508415  1.004855  -0.524278   \n",
       "4  -1.125615  -0.167185  -0.216998  ...  -0.452197  0.722257   0.117114   \n",
       "\n",
       "        94        95         96        97         98        99         100  \n",
       "0  0.462782  0.653174   0.278982  1.287942   0.245155  0.894915  -0.502916  \n",
       "1  0.378810  1.130215  -0.205914  1.156774   0.879370  0.899059  -0.284559  \n",
       "2  0.739088  1.177431   0.472935  1.032185  -0.214798  0.706888  -0.081318  \n",
       "3  0.763253  0.693777   0.600829  1.141334  -0.224841  0.649257  -0.208603  \n",
       "4  1.695926  1.328011   1.126812  1.019037   0.701252  0.932216  -0.340602  \n",
       "\n",
       "[5 rows x 101 columns]"
      ]
     },
     "execution_count": 4,
     "metadata": {},
     "output_type": "execute_result"
    }
   ],
   "source": [
    "corpus_df.head()"
   ]
  },
  {
   "cell_type": "code",
   "execution_count": 5,
   "metadata": {
    "ExecuteTime": {
     "end_time": "2020-03-03T06:20:40.703654Z",
     "start_time": "2020-03-03T06:20:38.688489Z"
    }
   },
   "outputs": [],
   "source": [
    "idx2vocab = dict()\n",
    "for idx in range(len(corpus_df)):\n",
    "    idx2vocab[idx] = str(corpus_df.iloc[idx,0])"
   ]
  },
  {
   "cell_type": "code",
   "execution_count": 7,
   "metadata": {
    "ExecuteTime": {
     "end_time": "2020-03-03T06:21:34.319315Z",
     "start_time": "2020-03-03T06:21:34.240919Z"
    }
   },
   "outputs": [],
   "source": [
    "vocab2idx ={vocab:idx for idx, vocab in idx2vocab.items()}"
   ]
  },
  {
   "cell_type": "code",
   "execution_count": 19,
   "metadata": {
    "ExecuteTime": {
     "end_time": "2020-03-03T06:34:43.809219Z",
     "start_time": "2020-03-03T06:34:43.795662Z"
    }
   },
   "outputs": [
    {
     "data": {
      "text/plain": [
       "358043"
      ]
     },
     "execution_count": 19,
     "metadata": {},
     "output_type": "execute_result"
    }
   ],
   "source": [
    "len(vocab2idx)"
   ]
  },
  {
   "cell_type": "code",
   "execution_count": 11,
   "metadata": {
    "ExecuteTime": {
     "end_time": "2020-03-03T06:22:22.635733Z",
     "start_time": "2020-03-03T06:22:14.320275Z"
    }
   },
   "outputs": [],
   "source": [
    "ind = corpus_df[0]\n",
    "corpus_df2 = corpus_df.iloc[:,1:].astype(np.float32).copy()\n",
    "corpus_df2.index= ind"
   ]
  },
  {
   "cell_type": "code",
   "execution_count": 12,
   "metadata": {
    "ExecuteTime": {
     "end_time": "2020-03-03T06:22:24.939182Z",
     "start_time": "2020-03-03T06:22:24.908877Z"
    }
   },
   "outputs": [
    {
     "data": {
      "text/html": [
       "<div>\n",
       "<style scoped>\n",
       "    .dataframe tbody tr th:only-of-type {\n",
       "        vertical-align: middle;\n",
       "    }\n",
       "\n",
       "    .dataframe tbody tr th {\n",
       "        vertical-align: top;\n",
       "    }\n",
       "\n",
       "    .dataframe thead th {\n",
       "        text-align: right;\n",
       "    }\n",
       "</style>\n",
       "<table border=\"1\" class=\"dataframe\">\n",
       "  <thead>\n",
       "    <tr style=\"text-align: right;\">\n",
       "      <th></th>\n",
       "      <th>1</th>\n",
       "      <th>2</th>\n",
       "      <th>3</th>\n",
       "      <th>4</th>\n",
       "      <th>5</th>\n",
       "      <th>6</th>\n",
       "      <th>7</th>\n",
       "      <th>8</th>\n",
       "      <th>9</th>\n",
       "      <th>10</th>\n",
       "      <th>...</th>\n",
       "      <th>91</th>\n",
       "      <th>92</th>\n",
       "      <th>93</th>\n",
       "      <th>94</th>\n",
       "      <th>95</th>\n",
       "      <th>96</th>\n",
       "      <th>97</th>\n",
       "      <th>98</th>\n",
       "      <th>99</th>\n",
       "      <th>100</th>\n",
       "    </tr>\n",
       "    <tr>\n",
       "      <th>0</th>\n",
       "      <th></th>\n",
       "      <th></th>\n",
       "      <th></th>\n",
       "      <th></th>\n",
       "      <th></th>\n",
       "      <th></th>\n",
       "      <th></th>\n",
       "      <th></th>\n",
       "      <th></th>\n",
       "      <th></th>\n",
       "      <th></th>\n",
       "      <th></th>\n",
       "      <th></th>\n",
       "      <th></th>\n",
       "      <th></th>\n",
       "      <th></th>\n",
       "      <th></th>\n",
       "      <th></th>\n",
       "      <th></th>\n",
       "      <th></th>\n",
       "      <th></th>\n",
       "    </tr>\n",
       "  </thead>\n",
       "  <tbody>\n",
       "    <tr>\n",
       "      <td>1</td>\n",
       "      <td>-0.427017</td>\n",
       "      <td>-0.543471</td>\n",
       "      <td>0.195273</td>\n",
       "      <td>0.294334</td>\n",
       "      <td>-0.441908</td>\n",
       "      <td>0.586086</td>\n",
       "      <td>-1.443970</td>\n",
       "      <td>-0.128346</td>\n",
       "      <td>-0.419354</td>\n",
       "      <td>-0.105046</td>\n",
       "      <td>...</td>\n",
       "      <td>-0.323161</td>\n",
       "      <td>0.875404</td>\n",
       "      <td>-0.551731</td>\n",
       "      <td>0.462782</td>\n",
       "      <td>0.653174</td>\n",
       "      <td>0.278982</td>\n",
       "      <td>1.287942</td>\n",
       "      <td>0.245155</td>\n",
       "      <td>0.894915</td>\n",
       "      <td>-0.502916</td>\n",
       "    </tr>\n",
       "    <tr>\n",
       "      <td>.</td>\n",
       "      <td>-0.757692</td>\n",
       "      <td>-1.366592</td>\n",
       "      <td>1.007756</td>\n",
       "      <td>0.140902</td>\n",
       "      <td>-0.405306</td>\n",
       "      <td>-0.137617</td>\n",
       "      <td>-1.532676</td>\n",
       "      <td>-0.855700</td>\n",
       "      <td>-0.578284</td>\n",
       "      <td>-0.262581</td>\n",
       "      <td>...</td>\n",
       "      <td>-0.227633</td>\n",
       "      <td>0.076767</td>\n",
       "      <td>-0.767365</td>\n",
       "      <td>0.378810</td>\n",
       "      <td>1.130215</td>\n",
       "      <td>-0.205914</td>\n",
       "      <td>1.156774</td>\n",
       "      <td>0.879370</td>\n",
       "      <td>0.899059</td>\n",
       "      <td>-0.284559</td>\n",
       "    </tr>\n",
       "    <tr>\n",
       "      <td>0</td>\n",
       "      <td>-0.224991</td>\n",
       "      <td>-1.100936</td>\n",
       "      <td>0.197688</td>\n",
       "      <td>-0.014826</td>\n",
       "      <td>-1.185218</td>\n",
       "      <td>0.888817</td>\n",
       "      <td>-1.203675</td>\n",
       "      <td>-0.273878</td>\n",
       "      <td>-0.824834</td>\n",
       "      <td>-0.363941</td>\n",
       "      <td>...</td>\n",
       "      <td>-0.479965</td>\n",
       "      <td>1.054976</td>\n",
       "      <td>-0.701015</td>\n",
       "      <td>0.739088</td>\n",
       "      <td>1.177431</td>\n",
       "      <td>0.472935</td>\n",
       "      <td>1.032185</td>\n",
       "      <td>-0.214798</td>\n",
       "      <td>0.706888</td>\n",
       "      <td>-0.081318</td>\n",
       "    </tr>\n",
       "    <tr>\n",
       "      <td>2</td>\n",
       "      <td>-0.305080</td>\n",
       "      <td>-0.908815</td>\n",
       "      <td>0.179033</td>\n",
       "      <td>0.308061</td>\n",
       "      <td>-1.271097</td>\n",
       "      <td>0.804265</td>\n",
       "      <td>-1.263210</td>\n",
       "      <td>-0.001970</td>\n",
       "      <td>-0.475218</td>\n",
       "      <td>-0.483079</td>\n",
       "      <td>...</td>\n",
       "      <td>-0.508415</td>\n",
       "      <td>1.004855</td>\n",
       "      <td>-0.524278</td>\n",
       "      <td>0.763253</td>\n",
       "      <td>0.693777</td>\n",
       "      <td>0.600829</td>\n",
       "      <td>1.141334</td>\n",
       "      <td>-0.224841</td>\n",
       "      <td>0.649257</td>\n",
       "      <td>-0.208603</td>\n",
       "    </tr>\n",
       "    <tr>\n",
       "      <td>의</td>\n",
       "      <td>-1.731348</td>\n",
       "      <td>-0.098834</td>\n",
       "      <td>-0.169523</td>\n",
       "      <td>0.454951</td>\n",
       "      <td>-0.729661</td>\n",
       "      <td>0.426901</td>\n",
       "      <td>-1.125615</td>\n",
       "      <td>-0.167185</td>\n",
       "      <td>-0.216998</td>\n",
       "      <td>0.428460</td>\n",
       "      <td>...</td>\n",
       "      <td>-0.452197</td>\n",
       "      <td>0.722257</td>\n",
       "      <td>0.117114</td>\n",
       "      <td>1.695926</td>\n",
       "      <td>1.328011</td>\n",
       "      <td>1.126812</td>\n",
       "      <td>1.019037</td>\n",
       "      <td>0.701252</td>\n",
       "      <td>0.932216</td>\n",
       "      <td>-0.340602</td>\n",
       "    </tr>\n",
       "  </tbody>\n",
       "</table>\n",
       "<p>5 rows × 100 columns</p>\n",
       "</div>"
      ],
      "text/plain": [
       "        1         2         3         4         5         6         7    \\\n",
       "0                                                                         \n",
       "1 -0.427017 -0.543471  0.195273  0.294334 -0.441908  0.586086 -1.443970   \n",
       ". -0.757692 -1.366592  1.007756  0.140902 -0.405306 -0.137617 -1.532676   \n",
       "0 -0.224991 -1.100936  0.197688 -0.014826 -1.185218  0.888817 -1.203675   \n",
       "2 -0.305080 -0.908815  0.179033  0.308061 -1.271097  0.804265 -1.263210   \n",
       "의 -1.731348 -0.098834 -0.169523  0.454951 -0.729661  0.426901 -1.125615   \n",
       "\n",
       "        8         9         10   ...       91        92        93        94   \\\n",
       "0                                ...                                           \n",
       "1 -0.128346 -0.419354 -0.105046  ... -0.323161  0.875404 -0.551731  0.462782   \n",
       ". -0.855700 -0.578284 -0.262581  ... -0.227633  0.076767 -0.767365  0.378810   \n",
       "0 -0.273878 -0.824834 -0.363941  ... -0.479965  1.054976 -0.701015  0.739088   \n",
       "2 -0.001970 -0.475218 -0.483079  ... -0.508415  1.004855 -0.524278  0.763253   \n",
       "의 -0.167185 -0.216998  0.428460  ... -0.452197  0.722257  0.117114  1.695926   \n",
       "\n",
       "        95        96        97        98        99        100  \n",
       "0                                                              \n",
       "1  0.653174  0.278982  1.287942  0.245155  0.894915 -0.502916  \n",
       ".  1.130215 -0.205914  1.156774  0.879370  0.899059 -0.284559  \n",
       "0  1.177431  0.472935  1.032185 -0.214798  0.706888 -0.081318  \n",
       "2  0.693777  0.600829  1.141334 -0.224841  0.649257 -0.208603  \n",
       "의  1.328011  1.126812  1.019037  0.701252  0.932216 -0.340602  \n",
       "\n",
       "[5 rows x 100 columns]"
      ]
     },
     "execution_count": 12,
     "metadata": {},
     "output_type": "execute_result"
    }
   ],
   "source": [
    "corpus_df2.head()"
   ]
  },
  {
   "cell_type": "code",
   "execution_count": 32,
   "metadata": {
    "ExecuteTime": {
     "end_time": "2020-03-03T06:41:13.185148Z",
     "start_time": "2020-03-03T06:41:13.170150Z"
    }
   },
   "outputs": [],
   "source": [
    "import torch\n",
    "import torch.nn as nn\n",
    "\n",
    "def similar_words(df, word, k=5):\n",
    "    cos = nn.CosineSimilarity(dim=1, eps=1e-6)\n",
    "    \n",
    "    word_id = vocab2idx[word]\n",
    "    word_vec = torch.tensor(df.loc[word].values).view(1,-1)\n",
    "    word_mat = torch.tensor(df.values)\n",
    "    \n",
    "    cos_mat = cos(word_vec, word_mat)\n",
    "    sim, indices = torch.topk(cos_mat, k+1)\n",
    "    \n",
    "    word_list = []\n",
    "    for i in indices:\n",
    "        if i != word_id:\n",
    "            i = np.int(i)\n",
    "            word_list.append(idx2vocab[i])\n",
    "\n",
    "    return pd.Series(word_list, np.array(sim[1:].detach()))"
   ]
  },
  {
   "cell_type": "code",
   "execution_count": 34,
   "metadata": {
    "ExecuteTime": {
     "end_time": "2020-03-03T06:41:26.707633Z",
     "start_time": "2020-03-03T06:41:26.573635Z"
    }
   },
   "outputs": [
    {
     "data": {
      "text/plain": [
       "0.759391    행복\n",
       "0.719031     꿈\n",
       "0.696173    사랑\n",
       "0.679551    미래\n",
       "0.672560    세상\n",
       "dtype: object"
      ]
     },
     "execution_count": 34,
     "metadata": {},
     "output_type": "execute_result"
    }
   ],
   "source": [
    "similar_words(corpus_df2, '희망')"
   ]
  },
  {
   "cell_type": "code",
   "execution_count": 35,
   "metadata": {
    "ExecuteTime": {
     "end_time": "2020-03-03T06:41:38.886051Z",
     "start_time": "2020-03-03T06:41:38.744514Z"
    }
   },
   "outputs": [
    {
     "data": {
      "text/plain": [
       "0.671587     빠진\n",
       "0.629165     빠지\n",
       "0.626621     빠졌\n",
       "0.613859    빠진다\n",
       "0.611816    두려움\n",
       "dtype: object"
      ]
     },
     "execution_count": 35,
     "metadata": {},
     "output_type": "execute_result"
    }
   ],
   "source": [
    "similar_words(corpus_df2, '절망')"
   ]
  },
  {
   "cell_type": "code",
   "execution_count": 36,
   "metadata": {
    "ExecuteTime": {
     "end_time": "2020-03-03T06:41:45.823867Z",
     "start_time": "2020-03-03T06:41:45.684821Z"
    }
   },
   "outputs": [
    {
     "data": {
      "text/plain": [
       "0.916319      초등\n",
       "0.858939     중학교\n",
       "0.818967    고등학교\n",
       "0.762781      교사\n",
       "0.759017      개교\n",
       "dtype: object"
      ]
     },
     "execution_count": 36,
     "metadata": {},
     "output_type": "execute_result"
    }
   ],
   "source": [
    "similar_words(corpus_df2, '학교')"
   ]
  },
  {
   "cell_type": "code",
   "execution_count": 37,
   "metadata": {
    "ExecuteTime": {
     "end_time": "2020-03-03T06:41:52.368785Z",
     "start_time": "2020-03-03T06:41:52.225768Z"
    }
   },
   "outputs": [
    {
     "data": {
      "text/plain": [
       "0.746111    대학생\n",
       "0.741608     교사\n",
       "0.739201     교육\n",
       "0.730497     학교\n",
       "0.711825     입학\n",
       "dtype: object"
      ]
     },
     "execution_count": 37,
     "metadata": {},
     "output_type": "execute_result"
    }
   ],
   "source": [
    "similar_words(corpus_df2, '학생')"
   ]
  },
  {
   "cell_type": "code",
   "execution_count": 38,
   "metadata": {
    "ExecuteTime": {
     "end_time": "2020-03-03T06:41:56.791240Z",
     "start_time": "2020-03-03T06:41:56.655242Z"
    }
   },
   "outputs": [
    {
     "data": {
      "text/plain": [
       "0.784426    부모\n",
       "0.750275    부부\n",
       "0.731567    친구\n",
       "0.727628    아내\n",
       "0.721882    결혼\n",
       "dtype: object"
      ]
     },
     "execution_count": 38,
     "metadata": {},
     "output_type": "execute_result"
    }
   ],
   "source": [
    "similar_words(corpus_df2, '가족')"
   ]
  },
  {
   "cell_type": "code",
   "execution_count": 39,
   "metadata": {
    "ExecuteTime": {
     "end_time": "2020-03-03T06:42:01.844123Z",
     "start_time": "2020-03-03T06:42:01.686634Z"
    }
   },
   "outputs": [
    {
     "data": {
      "text/plain": [
       "0.719773    트럭\n",
       "0.708316    차량\n",
       "0.680790    부품\n",
       "0.669089    제조\n",
       "0.667751    전기\n",
       "dtype: object"
      ]
     },
     "execution_count": 39,
     "metadata": {},
     "output_type": "execute_result"
    }
   ],
   "source": [
    "similar_words(corpus_df2, '자동차')"
   ]
  }
 ],
 "metadata": {
  "kernelspec": {
   "display_name": "Python 3.7.4 64-bit ('vscode': conda)",
   "language": "python",
   "name": "python37464bitvscodeconda5de396a6d5a74089a4a1b59718a6a1ff"
  },
  "language_info": {
   "codemirror_mode": {
    "name": "ipython",
    "version": 3
   },
   "file_extension": ".py",
   "mimetype": "text/x-python",
   "name": "python",
   "nbconvert_exporter": "python",
   "pygments_lexer": "ipython3",
   "version": "3.7.4"
  },
  "toc": {
   "base_numbering": 1,
   "nav_menu": {},
   "number_sections": true,
   "sideBar": true,
   "skip_h1_title": false,
   "title_cell": "Table of Contents",
   "title_sidebar": "Contents",
   "toc_cell": false,
   "toc_position": {},
   "toc_section_display": true,
   "toc_window_display": false
  }
 },
 "nbformat": 4,
 "nbformat_minor": 2
}
