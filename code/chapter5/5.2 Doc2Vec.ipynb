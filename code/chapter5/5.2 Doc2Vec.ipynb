{
 "cells": [
  {
   "cell_type": "code",
   "execution_count": 2,
   "metadata": {
    "ExecuteTime": {
     "end_time": "2020-03-11T06:44:41.118540Z",
     "start_time": "2020-03-11T06:44:40.751025Z"
    }
   },
   "outputs": [
    {
     "data": {
      "text/plain": [
       "['종합 평점은 4점 드립니다.␞92575\\n',\n",
       " '원작이 칭송받는 이유는 웹툰 계 자체의 질적 저하가 심각하기 때문.  원작이나 영화나 별로인건 마찬가지.␞92575\\n',\n",
       " '나름의  감동도 있고 안타까운 마음에 가슴도 먹먹  배우들의 연기가 good 김수현 최고~␞92575\\n']"
      ]
     },
     "execution_count": 2,
     "metadata": {},
     "output_type": "execute_result"
    }
   ],
   "source": [
    "data_path = '../data/processed/processed_review_movieid.txt'\n",
    "corpus = [sent for sent in open(data_path, 'r', encoding='utf8')]\n",
    "corpus[:3]"
   ]
  },
  {
   "cell_type": "code",
   "execution_count": 5,
   "metadata": {
    "ExecuteTime": {
     "end_time": "2020-03-11T06:46:59.147291Z",
     "start_time": "2020-03-11T06:46:58.108858Z"
    }
   },
   "outputs": [],
   "source": [
    "from konlpy.tag import Okt, Komoran, Hannanum, Kkma\n",
    "from eunjeon import Mecab\n",
    "\n",
    "def get_tokenizer(tokenizer_name):\n",
    "\n",
    "    tokenizer_dict={\n",
    "        'komoran':Komoran(),\n",
    "        'okt':Okt(),\n",
    "        'mecab':Mecab(),\n",
    "        'hannanum':Hannanum(),\n",
    "        'kkma':Kkma()\n",
    "    }\n",
    "    try:\n",
    "        tokenizer=tokenizer_dict[tokenizer_name]\n",
    "    except:\n",
    "        tokenizer=Mecab()\n",
    "    return tokenizer"
   ]
  },
  {
   "cell_type": "code",
   "execution_count": 18,
   "metadata": {
    "ExecuteTime": {
     "end_time": "2020-03-11T06:59:03.524208Z",
     "start_time": "2020-03-11T06:59:03.515208Z"
    }
   },
   "outputs": [],
   "source": [
    "from gensim.models.doc2vec import TaggedDocument\n",
    "\n",
    "class Doc2VecInput:\n",
    "    \n",
    "    def __init__(self, fname, tokenizer_name='mecab'):\n",
    "        self.fname = fname\n",
    "        self.tokenizer = get_tokenizer(tokenizer_name)\n",
    "        \n",
    "    def __iter__(self):\n",
    "        with open(self.fname, encoding='utf-8') as f:\n",
    "            for line in f:\n",
    "                try:\n",
    "                    sentence, movie_id = line.strip().split('\\u241E')\n",
    "                    tokens = self.tokenizer.morphs(sentence)\n",
    "                    tagged_doc = TaggedDocument(words=tokens, tags=['MOVIE_%s' % movie_id])\n",
    "                    yield tagged_doc\n",
    "                except:\n",
    "                    continue"
   ]
  },
  {
   "cell_type": "code",
   "execution_count": 19,
   "metadata": {
    "ExecuteTime": {
     "end_time": "2020-03-11T06:59:10.832637Z",
     "start_time": "2020-03-11T06:59:09.884638Z"
    }
   },
   "outputs": [],
   "source": [
    "from gensim.models import Doc2Vec\n",
    "\n",
    "corpus_fname = '../data/processed/processed_review_movieid.txt'\n",
    "output_fname = '../data/sentence-embeddings/doc2vec/doc2vec.model'\n",
    "corpus = Doc2VecInput(corpus_fname)"
   ]
  },
  {
   "cell_type": "code",
   "execution_count": 20,
   "metadata": {
    "ExecuteTime": {
     "end_time": "2020-03-11T07:05:07.850370Z",
     "start_time": "2020-03-11T06:59:13.195457Z"
    }
   },
   "outputs": [],
   "source": [
    "model = Doc2Vec(corpus, dm=1, vector_size=100)"
   ]
  },
  {
   "cell_type": "code",
   "execution_count": 23,
   "metadata": {
    "ExecuteTime": {
     "end_time": "2020-03-11T07:13:48.883874Z",
     "start_time": "2020-03-11T07:13:48.600852Z"
    }
   },
   "outputs": [],
   "source": [
    "model.save(output_fname)"
   ]
  },
  {
   "cell_type": "code",
   "execution_count": 24,
   "metadata": {
    "ExecuteTime": {
     "end_time": "2020-03-11T07:13:50.073447Z",
     "start_time": "2020-03-11T07:13:50.028451Z"
    }
   },
   "outputs": [
    {
     "data": {
      "text/plain": [
       "[('MOVIE_38921', 0.7221782207489014),\n",
       " ('MOVIE_61115', 0.7028977870941162),\n",
       " ('MOVIE_99752', 0.6768426895141602),\n",
       " ('MOVIE_50097', 0.6743828058242798),\n",
       " ('MOVIE_48238', 0.6741533279418945),\n",
       " ('MOVIE_11234', 0.6688286066055298),\n",
       " ('MOVIE_17156', 0.6674063205718994),\n",
       " ('MOVIE_101441', 0.6626647710800171),\n",
       " ('MOVIE_123082', 0.6596935987472534),\n",
       " ('MOVIE_120057', 0.6567031145095825)]"
      ]
     },
     "execution_count": 24,
     "metadata": {},
     "output_type": "execute_result"
    }
   ],
   "source": [
    "model.docvecs.most_similar('MOVIE_92575')"
   ]
  },
  {
   "cell_type": "code",
   "execution_count": 36,
   "metadata": {
    "ExecuteTime": {
     "end_time": "2020-03-11T07:16:57.929372Z",
     "start_time": "2020-03-11T07:16:57.911571Z"
    }
   },
   "outputs": [],
   "source": [
    "import requests\n",
    "import random\n",
    "\n",
    "class Doc2VecEvaluator:\n",
    "\n",
    "    def __init__(self, model_fname=\"data/doc2vec.vecs\", use_notebook=False):\n",
    "        self.model = Doc2Vec.load(model_fname)\n",
    "        self.doc2idx = {el:idx for idx, el in enumerate(self.model.docvecs.doctags.keys())}\n",
    "        self.use_notebook = use_notebook\n",
    "\n",
    "    def most_similar(self, movie_id, topn=10):\n",
    "        similar_movies = self.model.docvecs.most_similar('MOVIE_' + str(movie_id), topn=topn)\n",
    "        for movie_id, score in similar_movies:\n",
    "            print(self.get_movie_title(movie_id), score)\n",
    "\n",
    "    def get_titles_in_corpus(self, n_sample=5):\n",
    "        movie_ids = random.sample(self.model.docvecs.doctags.keys(), n_sample)\n",
    "        return {movie_id: self.get_movie_title(movie_id) for movie_id in movie_ids}\n",
    "\n",
    "    def get_movie_title(self, movie_id):\n",
    "        url = 'http://movie.naver.com/movie/point/af/list.nhn?st=mcode&target=after&sword=%s' % movie_id.split(\"_\")[1]\n",
    "        resp = requests.get(url)\n",
    "        root = html.fromstring(resp.text)\n",
    "        try:\n",
    "            title = root.xpath('//div[@class=\"choice_movie_info\"]//h5//a/text()')[0]\n",
    "        except:\n",
    "            title = \"\"\n",
    "        return title"
   ]
  },
  {
   "cell_type": "code",
   "execution_count": 37,
   "metadata": {
    "ExecuteTime": {
     "end_time": "2020-03-11T07:16:58.932114Z",
     "start_time": "2020-03-11T07:16:58.570204Z"
    }
   },
   "outputs": [],
   "source": [
    "model_eval = Doc2VecEvaluator(output_fname)"
   ]
  },
  {
   "cell_type": "code",
   "execution_count": 40,
   "metadata": {
    "ExecuteTime": {
     "end_time": "2020-03-11T07:17:57.078829Z",
     "start_time": "2020-03-11T07:17:56.766638Z"
    }
   },
   "outputs": [
    {
     "data": {
      "text/plain": [
       "{'MOVIE_13962': '특공외인부대',\n",
       " 'MOVIE_74522': '소와 함께 여행하는 법',\n",
       " 'MOVIE_134207': '아메리칸 섹스파티'}"
      ]
     },
     "execution_count": 40,
     "metadata": {},
     "output_type": "execute_result"
    }
   ],
   "source": [
    "model_eval.get_titles_in_corpus(n_sample=3)"
   ]
  },
  {
   "cell_type": "code",
   "execution_count": 42,
   "metadata": {
    "ExecuteTime": {
     "end_time": "2020-03-11T07:18:09.142757Z",
     "start_time": "2020-03-11T07:18:08.627258Z"
    }
   },
   "outputs": [
    {
     "name": "stdout",
     "output_type": "stream",
     "text": [
      "이야기 도시 0.9439024925231934\n",
      "유닛 7 0.9423443675041199\n",
      "바람아 말하라 0.940601110458374\n",
      "7층 0.940226674079895\n",
      "하늘 나라 엄마 별이 0.9396483302116394\n"
     ]
    }
   ],
   "source": [
    "model_eval.most_similar(13962, topn=5)"
   ]
  }
 ],
 "metadata": {
  "kernelspec": {
   "display_name": "Python 3.7.4 64-bit ('vscode': conda)",
   "language": "python",
   "name": "python37464bitvscodeconda5de396a6d5a74089a4a1b59718a6a1ff"
  },
  "language_info": {
   "codemirror_mode": {
    "name": "ipython",
    "version": 3
   },
   "file_extension": ".py",
   "mimetype": "text/x-python",
   "name": "python",
   "nbconvert_exporter": "python",
   "pygments_lexer": "ipython3",
   "version": "3.7.4"
  },
  "toc": {
   "base_numbering": 1,
   "nav_menu": {},
   "number_sections": true,
   "sideBar": true,
   "skip_h1_title": false,
   "title_cell": "Table of Contents",
   "title_sidebar": "Contents",
   "toc_cell": false,
   "toc_position": {},
   "toc_section_display": true,
   "toc_window_display": false
  }
 },
 "nbformat": 4,
 "nbformat_minor": 2
}
