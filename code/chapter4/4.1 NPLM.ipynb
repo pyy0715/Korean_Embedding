{
 "cells": [
  {
   "cell_type": "code",
   "execution_count": 1,
   "metadata": {
    "ExecuteTime": {
     "end_time": "2020-02-25T12:23:05.956945Z",
     "start_time": "2020-02-25T12:23:05.340946Z"
    }
   },
   "outputs": [],
   "source": [
    "# code by Tae Hwan Jung @graykode\n",
    "import numpy as np\n",
    "import torch\n",
    "import torch.nn as nn\n",
    "import torch.optim as optim\n",
    "from torch.autograd import Variable\n",
    "\n",
    "dtype = torch.FloatTensor"
   ]
  },
  {
   "cell_type": "code",
   "execution_count": 2,
   "metadata": {
    "ExecuteTime": {
     "end_time": "2020-02-25T12:23:10.501017Z",
     "start_time": "2020-02-25T12:23:10.488018Z"
    }
   },
   "outputs": [],
   "source": [
    "sentences = [ \"i like dog\", \"i love coffee\", \"i hate milk\"]"
   ]
  },
  {
   "cell_type": "code",
   "execution_count": 3,
   "metadata": {
    "ExecuteTime": {
     "end_time": "2020-02-25T12:23:15.333423Z",
     "start_time": "2020-02-25T12:23:15.319423Z"
    }
   },
   "outputs": [],
   "source": [
    "word_list = \" \".join(sentences).split()\n",
    "word_list = list(set(word_list))\n",
    "word_dict = {w: i for i, w in enumerate(word_list)}\n",
    "number_dict = {i: w for i, w in enumerate(word_list)}\n",
    "n_class = len(word_dict) # number of Vocabulary"
   ]
  },
  {
   "cell_type": "code",
   "execution_count": 4,
   "metadata": {
    "ExecuteTime": {
     "end_time": "2020-02-25T12:23:22.876946Z",
     "start_time": "2020-02-25T12:23:22.859945Z"
    }
   },
   "outputs": [
    {
     "data": {
      "text/plain": [
       "{'love': 0, 'dog': 1, 'hate': 2, 'i': 3, 'like': 4, 'milk': 5, 'coffee': 6}"
      ]
     },
     "execution_count": 4,
     "metadata": {},
     "output_type": "execute_result"
    }
   ],
   "source": [
    "word_dict"
   ]
  },
  {
   "cell_type": "code",
   "execution_count": 6,
   "metadata": {
    "ExecuteTime": {
     "end_time": "2020-02-25T12:23:36.597073Z",
     "start_time": "2020-02-25T12:23:36.581072Z"
    }
   },
   "outputs": [
    {
     "data": {
      "text/plain": [
       "{0: 'love', 1: 'dog', 2: 'hate', 3: 'i', 4: 'like', 5: 'milk', 6: 'coffee'}"
      ]
     },
     "execution_count": 6,
     "metadata": {},
     "output_type": "execute_result"
    }
   ],
   "source": [
    "number_dict"
   ]
  },
  {
   "cell_type": "code",
   "execution_count": 5,
   "metadata": {
    "ExecuteTime": {
     "end_time": "2020-02-25T12:23:25.966946Z",
     "start_time": "2020-02-25T12:23:25.959947Z"
    }
   },
   "outputs": [
    {
     "data": {
      "text/plain": [
       "7"
      ]
     },
     "execution_count": 5,
     "metadata": {},
     "output_type": "execute_result"
    }
   ],
   "source": [
    "n_class"
   ]
  },
  {
   "cell_type": "code",
   "execution_count": 7,
   "metadata": {
    "ExecuteTime": {
     "end_time": "2020-02-25T12:23:45.480866Z",
     "start_time": "2020-02-25T12:23:45.461857Z"
    }
   },
   "outputs": [],
   "source": [
    "def make_batch(sentences):\n",
    "    input_batch = []\n",
    "    target_batch = []\n",
    "\n",
    "    for sen in sentences:\n",
    "        word = sen.split()\n",
    "        input = [word_dict[n] for n in word[:-1]]\n",
    "        target = word_dict[word[-1]]\n",
    "\n",
    "        input_batch.append(input)\n",
    "        target_batch.append(target)\n",
    "\n",
    "    return input_batch, target_batch"
   ]
  },
  {
   "cell_type": "code",
   "execution_count": 8,
   "metadata": {
    "ExecuteTime": {
     "end_time": "2020-02-25T12:23:55.012646Z",
     "start_time": "2020-02-25T12:23:55.003112Z"
    }
   },
   "outputs": [],
   "source": [
    "input_batch, target_batch = make_batch(sentences)\n",
    "input_batch = Variable(torch.LongTensor(input_batch))\n",
    "target_batch = Variable(torch.LongTensor(target_batch))"
   ]
  },
  {
   "cell_type": "code",
   "execution_count": 9,
   "metadata": {
    "ExecuteTime": {
     "end_time": "2020-02-25T12:23:59.169901Z",
     "start_time": "2020-02-25T12:23:59.163359Z"
    }
   },
   "outputs": [
    {
     "data": {
      "text/plain": [
       "tensor([[3, 4],\n",
       "        [3, 0],\n",
       "        [3, 2]])"
      ]
     },
     "execution_count": 9,
     "metadata": {},
     "output_type": "execute_result"
    }
   ],
   "source": [
    "# {'love': 0, 'dog': 1, 'hate': 2, 'i': 3, 'like': 4, 'milk': 5, 'coffee': 6}\n",
    "input_batch"
   ]
  },
  {
   "cell_type": "code",
   "execution_count": 10,
   "metadata": {
    "ExecuteTime": {
     "end_time": "2020-02-25T12:24:24.216437Z",
     "start_time": "2020-02-25T12:24:24.207420Z"
    }
   },
   "outputs": [
    {
     "data": {
      "text/plain": [
       "tensor([1, 6, 5])"
      ]
     },
     "execution_count": 10,
     "metadata": {},
     "output_type": "execute_result"
    }
   ],
   "source": [
    "target_batch"
   ]
  },
  {
   "cell_type": "code",
   "execution_count": 11,
   "metadata": {
    "ExecuteTime": {
     "end_time": "2020-02-25T12:24:36.876295Z",
     "start_time": "2020-02-25T12:24:36.857309Z"
    }
   },
   "outputs": [],
   "source": [
    "class NNLM(nn.Module):\n",
    "    def __init__(self):\n",
    "        super(NNLM, self).__init__()\n",
    "        self.C = nn.Embedding(n_class, m)\n",
    "        self.H = nn.Parameter(torch.randn(n_step * m, n_hidden).type(dtype))\n",
    "        self.W = nn.Parameter(torch.randn(n_step * m, n_class).type(dtype))\n",
    "        self.d = nn.Parameter(torch.randn(n_hidden).type(dtype))\n",
    "        self.U = nn.Parameter(torch.randn(n_hidden, n_class).type(dtype))\n",
    "        self.b = nn.Parameter(torch.randn(n_class).type(dtype))\n",
    "\n",
    "    def forward(self, X):\n",
    "        X = self.C(X) \n",
    "        X = X.view(-1, n_step * m) # [batch_size, n_step * n_class]\n",
    "        tanh = torch.tanh(self.d + torch.mm(X, self.H)) # [batch_size, n_hidden]\n",
    "        output = self.b + torch.mm(X, self.W) + torch.mm(tanh, self.U) # [batch_size, n_class]\n",
    "        return output"
   ]
  },
  {
   "cell_type": "code",
   "execution_count": 12,
   "metadata": {
    "ExecuteTime": {
     "end_time": "2020-02-25T12:24:50.526191Z",
     "start_time": "2020-02-25T12:24:50.510196Z"
    }
   },
   "outputs": [],
   "source": [
    "# NNLM Parameter\n",
    "n_step = 2 # n-1 in paper\n",
    "n_hidden = 2 # h in paper\n",
    "m = 2 # m in paper"
   ]
  },
  {
   "cell_type": "markdown",
   "metadata": {},
   "source": [
    "### step1"
   ]
  },
  {
   "cell_type": "code",
   "execution_count": 13,
   "metadata": {
    "ExecuteTime": {
     "end_time": "2020-02-25T12:28:13.069564Z",
     "start_time": "2020-02-25T12:28:13.061575Z"
    }
   },
   "outputs": [],
   "source": [
    "# self.C = nn.Embedding(n_class, m)\n",
    "layer1 = nn.Embedding(7, 2)\n",
    "input_batch = layer1(input_batch)"
   ]
  },
  {
   "cell_type": "code",
   "execution_count": 16,
   "metadata": {
    "ExecuteTime": {
     "end_time": "2020-02-25T12:28:35.967432Z",
     "start_time": "2020-02-25T12:28:35.954433Z"
    },
    "scrolled": false
   },
   "outputs": [
    {
     "name": "stdout",
     "output_type": "stream",
     "text": [
      "tensor([[[-0.4834, -0.4924],\n",
      "         [ 0.9009,  0.3777]],\n",
      "\n",
      "        [[-0.4834, -0.4924],\n",
      "         [-0.3069, -0.9502]],\n",
      "\n",
      "        [[-0.4834, -0.4924],\n",
      "         [ 0.8882,  0.1755]]], grad_fn=<EmbeddingBackward>)\n",
      "torch.Size([3, 2, 2])\n"
     ]
    }
   ],
   "source": [
    "print(input_batch)\n",
    "print(input_batch.size())"
   ]
  },
  {
   "cell_type": "markdown",
   "metadata": {},
   "source": [
    "* i like -> [3,4] -> \n",
    "[-0.4834, -0.4924],\n",
    "[ 0.9009,  0.3777]"
   ]
  },
  {
   "cell_type": "markdown",
   "metadata": {},
   "source": [
    "### step2"
   ]
  },
  {
   "cell_type": "code",
   "execution_count": 17,
   "metadata": {
    "ExecuteTime": {
     "end_time": "2020-02-25T12:31:35.676104Z",
     "start_time": "2020-02-25T12:31:35.673104Z"
    }
   },
   "outputs": [],
   "source": [
    "# X = X.view(-1, n_step * m)\n",
    "\n",
    "input_batch = input_batch.view(-1, 2 * 2)"
   ]
  },
  {
   "cell_type": "code",
   "execution_count": 18,
   "metadata": {
    "ExecuteTime": {
     "end_time": "2020-02-25T12:31:47.307426Z",
     "start_time": "2020-02-25T12:31:47.296427Z"
    },
    "scrolled": true
   },
   "outputs": [
    {
     "name": "stdout",
     "output_type": "stream",
     "text": [
      "tensor([[-0.4834, -0.4924,  0.9009,  0.3777],\n",
      "        [-0.4834, -0.4924, -0.3069, -0.9502],\n",
      "        [-0.4834, -0.4924,  0.8882,  0.1755]], grad_fn=<ViewBackward>)\n",
      "torch.Size([3, 4])\n"
     ]
    }
   ],
   "source": [
    "print(input_batch)\n",
    "print(input_batch.size())"
   ]
  },
  {
   "cell_type": "markdown",
   "metadata": {},
   "source": [
    "### step3"
   ]
  },
  {
   "cell_type": "code",
   "execution_count": 19,
   "metadata": {
    "ExecuteTime": {
     "end_time": "2020-02-25T12:34:40.837966Z",
     "start_time": "2020-02-25T12:34:40.809877Z"
    }
   },
   "outputs": [],
   "source": [
    "# tanh = torch.tanh(self.d + torch.mm(X, self.H)) # [batch_size, n_hidden]\n",
    "\n",
    "\n",
    "d = nn.Parameter(torch.randn(2).type(dtype))\n",
    "H = nn.Parameter(torch.randn(2 * 2, 2).type(dtype))\n",
    "\n",
    "\n",
    "tanh = torch.tanh(d + torch.mm(input_batch, H))"
   ]
  },
  {
   "cell_type": "markdown",
   "metadata": {},
   "source": [
    "[3 * 4]와 [4 * 2]를 내적하면서 -> [3 * 2]"
   ]
  },
  {
   "cell_type": "code",
   "execution_count": 20,
   "metadata": {
    "ExecuteTime": {
     "end_time": "2020-02-25T12:34:52.225675Z",
     "start_time": "2020-02-25T12:34:52.216679Z"
    }
   },
   "outputs": [
    {
     "name": "stdout",
     "output_type": "stream",
     "text": [
      "torch.Size([2])\n",
      "torch.Size([4, 2])\n"
     ]
    }
   ],
   "source": [
    "print(d.shape)\n",
    "print(H.shape)"
   ]
  },
  {
   "cell_type": "code",
   "execution_count": 21,
   "metadata": {
    "ExecuteTime": {
     "end_time": "2020-02-25T12:34:59.614936Z",
     "start_time": "2020-02-25T12:34:59.596940Z"
    }
   },
   "outputs": [
    {
     "name": "stdout",
     "output_type": "stream",
     "text": [
      "torch.Size([3, 2])\n"
     ]
    }
   ],
   "source": [
    "print(tanh.shape)"
   ]
  },
  {
   "cell_type": "markdown",
   "metadata": {},
   "source": [
    "### step4"
   ]
  },
  {
   "cell_type": "code",
   "execution_count": 23,
   "metadata": {
    "ExecuteTime": {
     "end_time": "2020-02-25T12:40:26.066345Z",
     "start_time": "2020-02-25T12:40:26.045319Z"
    }
   },
   "outputs": [],
   "source": [
    "# output = self.b + torch.mm(X, self.W) + torch.mm(tanh, self.U) # [batch_size, n_class]\n",
    "\n",
    "\n",
    "b = nn.Parameter(torch.randn(7).type(dtype))\n",
    "W = nn.Parameter(torch.randn(4, 7).type(dtype))\n",
    "U = nn.Parameter(torch.randn(2, 7).type(dtype))\n",
    "\n",
    "output = b + torch.mm(input_batch, W) + torch.mm(tanh, U)"
   ]
  },
  {
   "cell_type": "code",
   "execution_count": 24,
   "metadata": {
    "ExecuteTime": {
     "end_time": "2020-02-25T12:40:42.890485Z",
     "start_time": "2020-02-25T12:40:42.874484Z"
    }
   },
   "outputs": [
    {
     "name": "stdout",
     "output_type": "stream",
     "text": [
      "torch.Size([7])\n",
      "torch.Size([4, 7])\n",
      "torch.Size([2, 7])\n"
     ]
    }
   ],
   "source": [
    "print(b.shape)\n",
    "print(W.shape)\n",
    "print(U.shape)"
   ]
  },
  {
   "cell_type": "code",
   "execution_count": 25,
   "metadata": {
    "ExecuteTime": {
     "end_time": "2020-02-25T12:40:50.668345Z",
     "start_time": "2020-02-25T12:40:50.656278Z"
    }
   },
   "outputs": [
    {
     "name": "stdout",
     "output_type": "stream",
     "text": [
      "torch.Size([3, 7])\n"
     ]
    }
   ],
   "source": [
    "print(output.shape)"
   ]
  },
  {
   "cell_type": "code",
   "execution_count": 26,
   "metadata": {
    "ExecuteTime": {
     "end_time": "2020-02-25T12:41:00.445150Z",
     "start_time": "2020-02-25T12:41:00.436163Z"
    }
   },
   "outputs": [
    {
     "data": {
      "text/plain": [
       "tensor([[-3.6326,  1.7987,  1.4586, -2.5563, -0.0386,  1.7940, -0.2317],\n",
       "        [ 0.0491,  1.8512,  1.1408, -1.2138, -1.8759,  1.2862, -3.9210],\n",
       "        [-3.3913,  1.8834,  1.4202, -2.6676, -0.3190,  1.6556, -0.4457]],\n",
       "       grad_fn=<AddBackward0>)"
      ]
     },
     "execution_count": 26,
     "metadata": {},
     "output_type": "execute_result"
    }
   ],
   "source": [
    "output"
   ]
  },
  {
   "cell_type": "markdown",
   "metadata": {},
   "source": [
    "### Training"
   ]
  },
  {
   "cell_type": "code",
   "execution_count": 27,
   "metadata": {
    "ExecuteTime": {
     "end_time": "2020-02-25T12:42:13.168606Z",
     "start_time": "2020-02-25T12:42:13.155611Z"
    }
   },
   "outputs": [],
   "source": [
    "model = NNLM()\n",
    "\n",
    "criterion = nn.CrossEntropyLoss()\n",
    "optimizer = optim.Adam(model.parameters(), lr=0.001)"
   ]
  },
  {
   "cell_type": "code",
   "execution_count": 29,
   "metadata": {
    "ExecuteTime": {
     "end_time": "2020-02-25T12:43:36.144388Z",
     "start_time": "2020-02-25T12:43:32.444829Z"
    }
   },
   "outputs": [
    {
     "name": "stdout",
     "output_type": "stream",
     "text": [
      "Epoch: 1000 cost = 0.056290\n",
      "Epoch: 2000 cost = 0.009048\n",
      "Epoch: 3000 cost = 0.003249\n",
      "Epoch: 4000 cost = 0.001505\n",
      "Epoch: 5000 cost = 0.000785\n",
      "[['i', 'like'], ['i', 'love'], ['i', 'hate']] -> ['dog', 'coffee', 'milk']\n"
     ]
    }
   ],
   "source": [
    "input_batch, target_batch = make_batch(sentences)\n",
    "input_batch = Variable(torch.LongTensor(input_batch))\n",
    "target_batch = Variable(torch.LongTensor(target_batch))\n",
    "\n",
    "for epoch in range(5000):\n",
    "\n",
    "    optimizer.zero_grad()\n",
    "    output = model(input_batch)\n",
    "\n",
    "    # output : [batch_size, n_class], target_batch : [batch_size] (LongTensor, not one-hot)\n",
    "    loss = criterion(output, target_batch)\n",
    "    if (epoch + 1)%1000 == 0:\n",
    "        print('Epoch:', '%04d' % (epoch + 1), 'cost =', '{:.6f}'.format(loss))\n",
    "\n",
    "    loss.backward()\n",
    "    optimizer.step()\n",
    "\n",
    "# Predict\n",
    "predict = model(input_batch).data.max(1, keepdim=True)[1]\n",
    "\n",
    "# Test\n",
    "print([sen.split()[:2] for sen in sentences], '->', [number_dict[n.item()] for n in predict.squeeze()])"
   ]
  }
 ],
 "metadata": {
  "kernelspec": {
   "display_name": "Python 3.7.4 64-bit ('vscode': conda)",
   "language": "python",
   "name": "python37464bitvscodeconda5de396a6d5a74089a4a1b59718a6a1ff"
  },
  "language_info": {
   "codemirror_mode": {
    "name": "ipython",
    "version": 3
   },
   "file_extension": ".py",
   "mimetype": "text/x-python",
   "name": "python",
   "nbconvert_exporter": "python",
   "pygments_lexer": "ipython3",
   "version": "3.7.4"
  },
  "toc": {
   "base_numbering": 1,
   "nav_menu": {},
   "number_sections": true,
   "sideBar": true,
   "skip_h1_title": false,
   "title_cell": "Table of Contents",
   "title_sidebar": "Contents",
   "toc_cell": false,
   "toc_position": {},
   "toc_section_display": true,
   "toc_window_display": false
  }
 },
 "nbformat": 4,
 "nbformat_minor": 2
}
