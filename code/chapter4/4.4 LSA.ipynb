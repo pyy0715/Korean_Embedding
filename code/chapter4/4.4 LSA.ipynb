{
 "cells": [
  {
   "cell_type": "code",
   "execution_count": 5,
   "metadata": {},
   "outputs": [],
   "source": [
    "txt_path = '../data/processed/processed_korquad.txt'\n",
    "corpus = [sent.replace('\\n', '').strip() for sent in open(txt_path, 'r', encoding='utf-8').readlines()]"
   ]
  },
  {
   "cell_type": "code",
   "execution_count": 6,
   "metadata": {},
   "outputs": [
    {
     "data": {
      "text/plain": [
       "'1839년 바그너는 괴테의 파우스트을 처음 읽고 그 내용에 마음이 끌려 이를 소재로 해서 하나의 교향곡을 쓰려는 뜻을 갖는다. 이 시기 바그너는 1838년에 빛 독촉으로 산전수전을 다 걲은 상황이라 좌절과 실망에 가득했으며 메피스토펠레스를 만나는 파우스트의 심경에 공감했다고 한다. 또한 파리에서 아브네크의 지휘로 파리 음악원 관현악단이 연주하는 베토벤의 교향곡 9번을 듣고 깊은 감명을 받았는데, 이것이 이듬해 1월에 파우스트의 서곡으로 쓰여진 이 작품에 조금이라도 영향을 끼쳤으리라는 것은 의심할 여지가 없다. 여기의 라단조 조성의 경우에도 그의 전기에 적혀 있는 것처럼 단순한 정신적 피로나 실의가 반영된 것이 아니라 베토벤의 합창교향곡 조성의 영향을 받은 것을 볼 수 있다. 그렇게 교향곡 작곡을 1839년부터 40년에 걸쳐 파리에서 착수했으나 1악장을 쓴 뒤에 중단했다. 또한 작품의 완성과 동시에 그는 이 서곡(1악장)을 파리 음악원의 연주회에서 연주할 파트보까지 준비하였으나, 실제로는 이루어지지는 않았다. 결국 초연은 4년 반이 지난 후에 드레스덴에서 연주되었고 재연도 이루어졌지만, 이후에 그대로 방치되고 말았다. 그 사이에 그는 리엔치와 방황하는 네덜란드인을 완성하고 탄호이저에도 착수하는 등 분주한 시간을 보냈는데, 그런 바쁜 생활이 이 곡을 잊게 한 것이 아닌가 하는 의견도 있다.'"
      ]
     },
     "execution_count": 6,
     "metadata": {},
     "output_type": "execute_result"
    }
   ],
   "source": [
    "corpus[0]"
   ]
  },
  {
   "cell_type": "code",
   "execution_count": 8,
   "metadata": {},
   "outputs": [
    {
     "data": {
      "text/plain": [
       "76946"
      ]
     },
     "execution_count": 8,
     "metadata": {},
     "output_type": "execute_result"
    }
   ],
   "source": [
    "len(corpus)"
   ]
  },
  {
   "cell_type": "code",
   "execution_count": 7,
   "metadata": {},
   "outputs": [],
   "source": [
    "from sklearn.decomposition import TruncatedSVD\n",
    "from soynlp.vectorizer import sent_to_word_contexts_matrix"
   ]
  },
  {
   "cell_type": "code",
   "execution_count": 9,
   "metadata": {},
   "outputs": [
    {
     "name": "stdout",
     "output_type": "stream",
     "text": [
      "Create (word, contexts) matrix\n",
      "  - counting word frequency from 76945 sents, mem=0.225 Gb\n",
      "  - scanning (word, context) pairs from 76945 sents, mem=0.456 Gb\n",
      "  - (word, context) matrix was constructed. shape = (25157, 25157)                    \n",
      "  - done\n"
     ]
    }
   ],
   "source": [
    "input_matrx, idx2vocab = sent_to_word_contexts_matrix(corpus, windows=3, min_tf=10, dynamic_weight=True, verbose=True)"
   ]
  },
  {
   "cell_type": "markdown",
   "metadata": {},
   "source": [
    "* windows는 문맥의 길이\n",
    "* min_tf는 최소 등장 횟수\n",
    "* dynamic_weight는 중심 단어와 멀 수록 가중치를 감소하는지 여부\n",
    "* verbose는 결과 출력 여부"
   ]
  },
  {
   "cell_type": "code",
   "execution_count": 10,
   "metadata": {},
   "outputs": [],
   "source": [
    "cooc_svd = TruncatedSVD(n_components=100)\n",
    "cooc_vecs = cooc_svd.fit_transform(input_matrx)"
   ]
  },
  {
   "cell_type": "code",
   "execution_count": 12,
   "metadata": {},
   "outputs": [
    {
     "name": "stdout",
     "output_type": "stream",
     "text": [
      "Before: (25157, 25157), TruncatedSVD After: (25157, 100)\n"
     ]
    }
   ],
   "source": [
    "print('Before: {}, TruncatedSVD After: {}'.format(input_matrx.shape, cooc_vecs.shape))"
   ]
  },
  {
   "cell_type": "code",
   "execution_count": 13,
   "metadata": {},
   "outputs": [],
   "source": [
    "from soynlp.word import pmi"
   ]
  },
  {
   "cell_type": "code",
   "execution_count": 16,
   "metadata": {},
   "outputs": [],
   "source": [
    "ppmi_matrix, _, _ = pmi(input_matrx, min_pmi=0)\n",
    "ppmi_svd = TruncatedSVD(n_components=100)\n",
    "ppmi_vecs = ppmi_svd.fit_transform(input_matrx)"
   ]
  },
  {
   "cell_type": "code",
   "execution_count": 17,
   "metadata": {},
   "outputs": [
    {
     "name": "stdout",
     "output_type": "stream",
     "text": [
      "Before: (25157, 25157), PPMI TruncatedSVD After: (25157, 100)\n"
     ]
    }
   ],
   "source": [
    "print('Before: {}, PPMI TruncatedSVD After: {}'.format(input_matrx.shape, ppmi_vecs.shape))"
   ]
  },
  {
   "cell_type": "code",
   "execution_count": 44,
   "metadata": {},
   "outputs": [],
   "source": [
    "word2id = dict()\n",
    "for word in idx2vocab:\n",
    "    word2id[word]=len(word2id)\n",
    "\n",
    "import torch\n",
    "import numpy as np \n",
    "\n",
    "def similar_words(mat, word, k=10):\n",
    "    eps =1e-6\n",
    "    def cos_sim(a,b):\n",
    "        return np.sum((a*b)/(np.linalg.norm(a)*np.linalg.norm(b)+eps),1)\n",
    "\n",
    "    word_vec = mat[word2id[word]]\n",
    "    \n",
    "    cos_mat = cos_sim(word_vec, mat)\n",
    "    sim, indices = torch.topk(torch.tensor(cos_mat),k+1)\n",
    "    \n",
    "    \n",
    "    word_list = []\n",
    "    for i in indices:\n",
    "        if i != word2id[word]:\n",
    "            word_list.append(idx2vocab[i])\n",
    "    return word_list"
   ]
  },
  {
   "cell_type": "code",
   "execution_count": 48,
   "metadata": {},
   "outputs": [
    {
     "data": {
      "text/plain": [
       "['수', '번째', '이', '두', '첫', '한', '그', '있다.', '것은', '있는', '몇']"
      ]
     },
     "execution_count": 48,
     "metadata": {},
     "output_type": "execute_result"
    }
   ],
   "source": [
    "similar_words(ppmi_vecs,'일본')"
   ]
  },
  {
   "cell_type": "code",
   "execution_count": 49,
   "metadata": {},
   "outputs": [
    {
     "data": {
      "text/plain": [
       "['수', '번째', '이', '두', '첫', '한', '그', '있다.', '것은', '있는', '몇']"
      ]
     },
     "execution_count": 49,
     "metadata": {},
     "output_type": "execute_result"
    }
   ],
   "source": [
    "similar_words(cooc_vecs,'일본')"
   ]
  }
 ],
 "metadata": {
  "file_extension": ".py",
  "kernelspec": {
   "display_name": "Python 3.7.4 64-bit",
   "language": "python",
   "name": "python37464bita7e8e6de22df4df5b46e80530f063220"
  },
  "language_info": {
   "codemirror_mode": {
    "name": "ipython",
    "version": 3
   },
   "file_extension": ".py",
   "mimetype": "text/x-python",
   "name": "python",
   "nbconvert_exporter": "python",
   "pygments_lexer": "ipython3",
   "version": "3.7.4"
  },
  "mimetype": "text/x-python",
  "name": "python",
  "npconvert_exporter": "python",
  "pygments_lexer": "ipython3",
  "toc": {
   "base_numbering": 1,
   "nav_menu": {},
   "number_sections": true,
   "sideBar": true,
   "skip_h1_title": false,
   "title_cell": "Table of Contents",
   "title_sidebar": "Contents",
   "toc_cell": false,
   "toc_position": {},
   "toc_section_display": true,
   "toc_window_display": false
  },
  "version": 3
 },
 "nbformat": 4,
 "nbformat_minor": 2
}
